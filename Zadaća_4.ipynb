{
 "cells": [
  {
   "cell_type": "markdown",
   "id": "30e9ce05",
   "metadata": {},
   "source": [
    "# Laboratory exercise 4\n",
    "\n",
    "In this laboratory exercise you will use the questionnaire and answers given below"
   ]
  },
  {
   "cell_type": "code",
   "execution_count": 1,
   "id": "d6820020",
   "metadata": {},
   "outputs": [],
   "source": [
    "import pandas as pd"
   ]
  },
  {
   "cell_type": "code",
   "execution_count": 2,
   "id": "c53f916c",
   "metadata": {},
   "outputs": [],
   "source": [
    "questionnaire = pd.DataFrame({'Q1': [1, 2, 2, 3, 2, 2, 3, 3, 2, 3],\n",
    "                              'Q2': [1, 1, 1, 2, 3, 3, 2, 3, 3, 3],\n",
    "                              'Q3': [1, 1, 2, 1, 2, 3, 3, 3, 2, 3]})"
   ]
  },
  {
   "cell_type": "markdown",
   "id": "ce36a49d",
   "metadata": {},
   "source": [
    "1. Write a function to detrmine the realiability of the questionnaire answers with Cronbach's Alpha."
   ]
  },
  {
   "cell_type": "code",
   "execution_count": 3,
   "id": "66956422",
   "metadata": {},
   "outputs": [
    {
     "name": "stdout",
     "output_type": "stream",
     "text": [
      "Cronbach's Alpha: 0.7016129032258063\n"
     ]
    }
   ],
   "source": [
    "import pandas as pd\n",
    "from itertools import combinations\n",
    "\n",
    "def cronbach_alpha(data):\n",
    "    items = data.shape[1]\n",
    "    variances = data.var()\n",
    "    total_variance = variances.sum()\n",
    "    \n",
    "  \n",
    "    covariance_matrix = data.cov()\n",
    "    \n",
    "   \n",
    "    sum_of_covariances = sum([covariance_matrix.iloc[i, j] for i, j in combinations(range(items), 2)])\n",
    "    \n",
    "\n",
    "    cronbach_alpha = (items / (items - 1)) * (1 - (sum_of_covariances / total_variance))\n",
    "    \n",
    "    return cronbach_alpha\n",
    "\n",
    "questionnaire = pd.DataFrame({'Q1': [1, 2, 2, 3, 2, 2, 3, 3, 2, 3],\n",
    "                              'Q2': [1, 1, 1, 2, 3, 3, 2, 3, 3, 3],\n",
    "                              'Q3': [1, 1, 2, 1, 2, 3, 3, 3, 2, 3]})\n",
    "\n",
    "alpha = cronbach_alpha(questionnaire)\n",
    "print(f\"Cronbach's Alpha: {alpha}\")"
   ]
  },
  {
   "cell_type": "markdown",
   "id": "69cb9d0a",
   "metadata": {},
   "source": [
    "2. Explain the differences between in-house data labeling, crowdsourcing and outsourcing. "
   ]
  },
  {
   "cell_type": "markdown",
   "id": "5c416a45",
   "metadata": {},
   "source": [
    "1.In-house data labeling\n",
    "\n",
    "-ensures the highest quality\n",
    "\n",
    "-they are usually marked by scientists or people in the organization (they can\n",
    "also be part-time employees / people for whom data marking is not in the job\n",
    "description).\n",
    "\n",
    "2.Crowdsourcing\n",
    "\n",
    "-with the help of a large number of freelancers registered on the\n",
    "crowdsourcing platform (they have tens of thousands of registered\n",
    "data annotators)\n",
    "\n",
    "-annotated datasets mostly consist of trivial data, e.g. images of\n",
    "animals, plants and natural environments, and do not require\n",
    "additional expertise\n",
    "\n",
    "3.Outsourcing\n",
    "\n",
    "-a middle ground between crowdsourcing and in-house labeling\n",
    "\n",
    "-the task of annotating data is left to an individual or organization\n",
    "that has trained annotators\n",
    "\n",
    "-one of the advantages of outsourcing to individuals is that they can be\n",
    "evaluated on a particular topic before the work is handed over to\n",
    "them\n",
    "\n",
    "\n",
    "\n"
   ]
  },
  {
   "cell_type": "markdown",
   "id": "ce3d3e91",
   "metadata": {},
   "source": [
    "3. Explain the main differences between annotation for image classification, object detection and image segmentation."
   ]
  },
  {
   "cell_type": "markdown",
   "id": "751e7559",
   "metadata": {},
   "source": [
    "1.Image classification\n",
    "\n",
    "-adding a tag to an image\n",
    "-the number of unique tags in the entire database is the number of\n",
    "classes that the model can classify\n",
    "\n",
    "2.Object detection\n",
    "\n",
    "-detection of objects and their locations\n",
    "-each object is marked with the smallest possible rectangle that\n",
    "surrounds it (bounding box)\n",
    "-usually a label is attached to each rectangle\n",
    "\n",
    "3.Image segmentation\n",
    "\n",
    "-separate image objects from their background and other objects in\n",
    "the image → usually result in images of the same size as the original\n",
    "image, containing 1 where the object is present and 0 otherwise"
   ]
  }
 ],
 "metadata": {
  "kernelspec": {
   "display_name": "Python 3 (ipykernel)",
   "language": "python",
   "name": "python3"
  },
  "language_info": {
   "codemirror_mode": {
    "name": "ipython",
    "version": 3
   },
   "file_extension": ".py",
   "mimetype": "text/x-python",
   "name": "python",
   "nbconvert_exporter": "python",
   "pygments_lexer": "ipython3",
   "version": "3.11.5"
  }
 },
 "nbformat": 4,
 "nbformat_minor": 5
}
